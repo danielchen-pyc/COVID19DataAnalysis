{
 "cells": [
  {
   "cell_type": "code",
   "execution_count": 1,
   "metadata": {},
   "outputs": [
    {
     "name": "stderr",
     "output_type": "stream",
     "text": [
      "Using TensorFlow backend.\n"
     ]
    }
   ],
   "source": [
    "import pandas as pd\n",
    "import numpy as np\n",
    "import matplotlib as plt\n",
    "import pycountry_convert as pc\n",
    "import folium as f\n",
    "import keras as k\n",
    "import plotly "
   ]
  },
  {
   "cell_type": "code",
   "execution_count": 35,
   "metadata": {},
   "outputs": [],
   "source": [
    "df_confirmed = pd.read_csv('https://raw.githubusercontent.com/CSSEGISandData/COVID-19/master/csse_covid_19_data/csse_covid_19_time_series/time_series_covid19_confirmed_global.csv')"
   ]
  },
  {
   "cell_type": "code",
   "execution_count": 36,
   "metadata": {},
   "outputs": [],
   "source": [
    "df_deaths = pd.read_csv('https://raw.githubusercontent.com/CSSEGISandData/COVID-19/master/csse_covid_19_data/csse_covid_19_time_series/time_series_covid19_deaths_global.csv')"
   ]
  },
  {
   "cell_type": "code",
   "execution_count": 37,
   "metadata": {},
   "outputs": [],
   "source": [
    "df_covid19 = pd.read_csv(\"https://raw.githubusercontent.com/CSSEGISandData/COVID-19/web-data/data/cases_country.csv\")"
   ]
  },
  {
   "cell_type": "code",
   "execution_count": 38,
   "metadata": {},
   "outputs": [],
   "source": [
    "df_table = pd.read_csv(\"https://raw.githubusercontent.com/CSSEGISandData/COVID-19/web-data/data/cases_time.csv\",parse_dates=['Last_Update'])"
   ]
  },
  {
   "cell_type": "code",
   "execution_count": 39,
   "metadata": {},
   "outputs": [],
   "source": [
    "df_confirmed = df_confirmed.rename(columns={'Country/Region': 'Country', 'Province/State': 'State'})\n",
    "df_deaths = df_deaths.rename(columns={'Country/Region': 'Country', 'Province/State': 'State'})\n",
    "\n",
    "df_covid19[\"Active\"] = df_covid19[\"Confirmed\"]-df_covid19[\"Recovered\"]-df_covid19[\"Deaths\"]\n",
    "df_covid19 = df_covid19.rename(columns={'Country_Region': 'Country'})\n",
    "df_covid19 = df_covid19.drop(['People_Tested', 'People_Hospitalized'], axis=1)\n",
    "df_covid19.loc[df_covid19['Country'] == \"Taiwan*\", \"Country\"] = \"Taiwan\""
   ]
  },
  {
   "cell_type": "code",
   "execution_count": 40,
   "metadata": {},
   "outputs": [],
   "source": [
    "df_confirmed = df_confirmed.replace(np.nan, '', regex=True)\n",
    "df_deaths = df_deaths.replace(np.nan, '', regex=True)"
   ]
  },
  {
   "cell_type": "code",
   "execution_count": 41,
   "metadata": {},
   "outputs": [],
   "source": [
    "pd.set_option('display.max_rows', None)\n",
    "pd.set_option('display.max_columns', None)\n",
    "pd.set_option('display.width', None)"
   ]
  },
  {
   "cell_type": "code",
   "execution_count": 42,
   "metadata": {},
   "outputs": [],
   "source": [
    "# getting all countries\n",
    "countries = np.asarray(df_confirmed[\"Country\"])\n",
    "countries1 = np.asarray(df_covid19[\"Country\"])\n",
    "# Continent_code to Continent_names\n",
    "continents = {\n",
    "    'NA': 'North America',\n",
    "    'SA': 'South America', \n",
    "    'AS': 'Asia',\n",
    "    'OC': 'Australia',\n",
    "    'AF': 'Africa',\n",
    "    'EU' : 'Europe',\n",
    "    'na' : 'Others'\n",
    "}\n",
    "\n",
    "def country_to_continent_code(country):\n",
    "    try:\n",
    "        return continents[pc.country_alpha2_to_continent_code(pc.country_name_to_country_alpha2(country))]\n",
    "    except: \n",
    "        return 'na'\n",
    "    \n",
    "df_confirmed.insert(2, 'Continent', [country_to_continent_code(country) for country in countries[:]])\n",
    "df_deaths.insert(2, 'Continent', [country_to_continent_code(country) for country in countries[:]])\n",
    "df_covid19.insert(1, 'Continent', [country_to_continent_code(country) for country in countries1[:]])"
   ]
  },
  {
   "cell_type": "code",
   "execution_count": 48,
   "metadata": {},
   "outputs": [],
   "source": [
    "df_confirmed = df_confirmed.replace(np.nan, '', regex=True)\n",
    "df_deaths = df_deaths.replace(np.nan, '', regex=True)"
   ]
  },
  {
   "cell_type": "code",
   "execution_count": 52,
   "metadata": {},
   "outputs": [],
   "source": [
    "df_countries_cases = df_covid19.copy().drop(['Lat', 'Long_', 'Continent', 'Last_Update'], axis=1)\n",
    "df_countries_cases.index = df_covid19['Country']\n",
    "df_countries_cases = df_countries_cases.drop(['Country'], axis=1)"
   ]
  },
  {
   "cell_type": "code",
   "execution_count": 55,
   "metadata": {},
   "outputs": [],
   "source": [
    "df_continent_cases = df_covid19.copy().drop(['Lat', 'Long_', 'Country', 'Last_Update'], axis=1)\n",
    "df_continent_cases = df_continent_cases.groupby(['Continent']).sum()"
   ]
  },
  {
   "cell_type": "code",
   "execution_count": 56,
   "metadata": {},
   "outputs": [
    {
     "data": {
      "text/html": [
       "<div>\n",
       "<style scoped>\n",
       "    .dataframe tbody tr th:only-of-type {\n",
       "        vertical-align: middle;\n",
       "    }\n",
       "\n",
       "    .dataframe tbody tr th {\n",
       "        vertical-align: top;\n",
       "    }\n",
       "\n",
       "    .dataframe thead th {\n",
       "        text-align: right;\n",
       "    }\n",
       "</style>\n",
       "<table border=\"1\" class=\"dataframe\">\n",
       "  <thead>\n",
       "    <tr style=\"text-align: right;\">\n",
       "      <th></th>\n",
       "      <th>Confirmed</th>\n",
       "      <th>Deaths</th>\n",
       "      <th>Recovered</th>\n",
       "      <th>Active</th>\n",
       "      <th>Incident_Rate</th>\n",
       "      <th>Mortality_Rate</th>\n",
       "      <th>UID</th>\n",
       "    </tr>\n",
       "    <tr>\n",
       "      <th>Continent</th>\n",
       "      <th></th>\n",
       "      <th></th>\n",
       "      <th></th>\n",
       "      <th></th>\n",
       "      <th></th>\n",
       "      <th></th>\n",
       "      <th></th>\n",
       "    </tr>\n",
       "  </thead>\n",
       "  <tbody>\n",
       "    <tr>\n",
       "      <th>Africa</th>\n",
       "      <td>38563</td>\n",
       "      <td>1638</td>\n",
       "      <td>12862</td>\n",
       "      <td>24063</td>\n",
       "      <td>348.315693</td>\n",
       "      <td>189.164169</td>\n",
       "      <td>23596</td>\n",
       "    </tr>\n",
       "    <tr>\n",
       "      <th>Asia</th>\n",
       "      <td>526669</td>\n",
       "      <td>18841</td>\n",
       "      <td>268740</td>\n",
       "      <td>239088</td>\n",
       "      <td>2253.562360</td>\n",
       "      <td>106.944724</td>\n",
       "      <td>18044</td>\n",
       "    </tr>\n",
       "    <tr>\n",
       "      <th>Australia</th>\n",
       "      <td>8292</td>\n",
       "      <td>113</td>\n",
       "      <td>7073</td>\n",
       "      <td>1106</td>\n",
       "      <td>59.526460</td>\n",
       "      <td>2.718280</td>\n",
       "      <td>1430</td>\n",
       "    </tr>\n",
       "    <tr>\n",
       "      <th>Europe</th>\n",
       "      <td>1383189</td>\n",
       "      <td>137474</td>\n",
       "      <td>494805</td>\n",
       "      <td>750910</td>\n",
       "      <td>9667.056448</td>\n",
       "      <td>232.949163</td>\n",
       "      <td>18538</td>\n",
       "    </tr>\n",
       "    <tr>\n",
       "      <th>North America</th>\n",
       "      <td>96278</td>\n",
       "      <td>6235</td>\n",
       "      <td>38820</td>\n",
       "      <td>51223</td>\n",
       "      <td>630.005714</td>\n",
       "      <td>125.755380</td>\n",
       "      <td>7452</td>\n",
       "    </tr>\n",
       "    <tr>\n",
       "      <th>South America</th>\n",
       "      <td>190608</td>\n",
       "      <td>9507</td>\n",
       "      <td>63804</td>\n",
       "      <td>117297</td>\n",
       "      <td>475.484749</td>\n",
       "      <td>59.540090</td>\n",
       "      <td>4708</td>\n",
       "    </tr>\n",
       "    <tr>\n",
       "      <th>na</th>\n",
       "      <td>1119179</td>\n",
       "      <td>65419</td>\n",
       "      <td>174881</td>\n",
       "      <td>878879</td>\n",
       "      <td>1780.287019</td>\n",
       "      <td>49.883192</td>\n",
       "      <td>23335</td>\n",
       "    </tr>\n",
       "  </tbody>\n",
       "</table>\n",
       "</div>"
      ],
      "text/plain": [
       "               Confirmed  Deaths  Recovered  Active  Incident_Rate  \\\n",
       "Continent                                                            \n",
       "Africa             38563    1638      12862   24063     348.315693   \n",
       "Asia              526669   18841     268740  239088    2253.562360   \n",
       "Australia           8292     113       7073    1106      59.526460   \n",
       "Europe           1383189  137474     494805  750910    9667.056448   \n",
       "North America      96278    6235      38820   51223     630.005714   \n",
       "South America     190608    9507      63804  117297     475.484749   \n",
       "na               1119179   65419     174881  878879    1780.287019   \n",
       "\n",
       "               Mortality_Rate    UID  \n",
       "Continent                             \n",
       "Africa             189.164169  23596  \n",
       "Asia               106.944724  18044  \n",
       "Australia            2.718280   1430  \n",
       "Europe             232.949163  18538  \n",
       "North America      125.755380   7452  \n",
       "South America       59.540090   4708  \n",
       "na                  49.883192  23335  "
      ]
     },
     "execution_count": 56,
     "metadata": {},
     "output_type": "execute_result"
    }
   ],
   "source": [
    "df_continent_cases"
   ]
  },
  {
   "cell_type": "code",
   "execution_count": 57,
   "metadata": {},
   "outputs": [],
   "source": [
    "df_countries_cases.fillna(0,inplace=True)\n",
    "df_continent_cases.fillna(0,inplace=True)"
   ]
  },
  {
   "cell_type": "code",
   "execution_count": null,
   "metadata": {},
   "outputs": [],
   "source": []
  }
 ],
 "metadata": {
  "kernelspec": {
   "display_name": "Python 3",
   "language": "python",
   "name": "python3"
  },
  "language_info": {
   "codemirror_mode": {
    "name": "ipython",
    "version": 3
   },
   "file_extension": ".py",
   "mimetype": "text/x-python",
   "name": "python",
   "nbconvert_exporter": "python",
   "pygments_lexer": "ipython3",
   "version": "3.7.6"
  }
 },
 "nbformat": 4,
 "nbformat_minor": 4
}
